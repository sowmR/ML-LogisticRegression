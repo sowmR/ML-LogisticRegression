{
  "nbformat": 4,
  "nbformat_minor": 0,
  "metadata": {
    "colab": {
      "name": "LogisticRegression_numpy.ipynb",
      "provenance": [],
      "collapsed_sections": [],
      "authorship_tag": "ABX9TyNRff4xtn4rN4HIrHc9jEBe",
      "include_colab_link": true
    },
    "kernelspec": {
      "name": "python3",
      "display_name": "Python 3"
    },
    "language_info": {
      "name": "python"
    }
  },
  "cells": [
    {
      "cell_type": "markdown",
      "metadata": {
        "id": "view-in-github",
        "colab_type": "text"
      },
      "source": [
        "<a href=\"https://colab.research.google.com/github/sowmR/ML-LogisticRegression/blob/main/LogisticRegression_numpy.ipynb\" target=\"_parent\"><img src=\"https://colab.research.google.com/assets/colab-badge.svg\" alt=\"Open In Colab\"/></a>"
      ]
    },
    {
      "cell_type": "markdown",
      "metadata": {
        "id": "H0LvALIJlrmF"
      },
      "source": [
        "# Logistic Regression using numpy"
      ]
    },
    {
      "cell_type": "code",
      "metadata": {
        "id": "qIjvGmTLHhzc"
      },
      "source": [
        "import numpy as np"
      ],
      "execution_count": null,
      "outputs": []
    },
    {
      "cell_type": "code",
      "metadata": {
        "id": "Q8VIWwVulvW8"
      },
      "source": [
        "class LogisticRegression:\n",
        "  def __init__(self,learningRate, epochs):\n",
        "    self.learning_rate  = learningRate\n",
        "    self.epochs = epochs\n",
        "\n",
        "  def dw(self,y_pred):\n",
        "    return (1/self.sn)* (np.dot(self.X.T,(y_pred - self.Y))\n",
        "\n",
        "  def db(self,y_pred):\n",
        "    return (1/self.sn) * np.sum(y_pred-self.Y)  \n",
        "\n",
        "  def update_coefficients(self, y_pred):\n",
        "    self.weights = self.weights-self.learning_rate * dw(y_pred)\n",
        "    self.bias = self.bias - self.learning_rate* db(y_pred)\n",
        "\n",
        "  def predict(self, x):\n",
        "    y_pred = []\n",
        "    return y_pred\n",
        "\n",
        "  def fit(self, x,y):\n",
        "    # sn => number of samples\n",
        "    # fn => number of features\n",
        "    self.sn, self.fn = x.shape\n",
        "\n",
        "    # initialize weight and bias\n",
        "    self.weights = np.zeros(fn)\n",
        "    self.bias = 0\n",
        "    self.X = x\n",
        "    self.Y = y\n",
        "\n",
        "    for i in range(self.epochs):\n",
        "      y_pred = self.predict(self.X)\n",
        "      self.update_coefficients(y_pred)\n",
        "      "
      ],
      "execution_count": null,
      "outputs": []
    }
  ]
}